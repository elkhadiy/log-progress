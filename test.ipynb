{
 "cells": [
  {
   "cell_type": "code",
   "execution_count": null,
   "metadata": {
    "collapsed": false
   },
   "outputs": [],
   "source": [
    "import sys\n",
    "from time import sleep"
   ]
  },
  {
   "cell_type": "code",
   "execution_count": null,
   "metadata": {
    "collapsed": false
   },
   "outputs": [],
   "source": [
    "urls = range(100)\n",
    "\n",
    "\n",
    "def fetch_url(url):\n",
    "    sleep(0.1)"
   ]
  },
  {
   "cell_type": "code",
   "execution_count": null,
   "metadata": {
    "collapsed": false
   },
   "outputs": [],
   "source": [
    "def log_progress(sequence, every=10):\n",
    "    for index, item in enumerate(sequence):\n",
    "        if index % every == 0:\n",
    "            print(index, file=sys.stderr)\n",
    "        yield item"
   ]
  },
  {
   "cell_type": "code",
   "execution_count": null,
   "metadata": {
    "collapsed": false
   },
   "outputs": [],
   "source": [
    "for url in log_progress(urls):\n",
    "    fetch_url(url)"
   ]
  },
  {
   "cell_type": "code",
   "execution_count": null,
   "metadata": {
    "collapsed": false
   },
   "outputs": [],
   "source": [
    "urls = range(10000)\n",
    "\n",
    "\n",
    "def check_url(url):\n",
    "    sleep(0.0001)"
   ]
  },
  {
   "cell_type": "code",
   "execution_count": null,
   "metadata": {
    "collapsed": false
   },
   "outputs": [],
   "source": [
    "for url in log_progress(urls):\n",
    "    check_url(url)"
   ]
  },
  {
   "cell_type": "code",
   "execution_count": null,
   "metadata": {
    "collapsed": false
   },
   "outputs": [],
   "source": [
    "urls = ['http://{0}.ru'.format(_) for _ in range(100)]\n",
    "\n",
    "\n",
    "def fetch_url(url):\n",
    "    print('Fetching', url)\n",
    "    sleep(0.4)"
   ]
  },
  {
   "cell_type": "code",
   "execution_count": null,
   "metadata": {
    "collapsed": false
   },
   "outputs": [],
   "source": [
    "for url in log_progress(urls, every=2):\n",
    "    fetch_url(url)"
   ]
  },
  {
   "cell_type": "code",
   "execution_count": null,
   "metadata": {
    "collapsed": false
   },
   "outputs": [],
   "source": [
    "def log_progress(sequence, every=10):\n",
    "    from ipywidgets import IntProgress\n",
    "    from IPython.display import display\n",
    "\n",
    "    progress = IntProgress(min=0, max=len(sequence), value=0)\n",
    "    display(progress)\n",
    "    \n",
    "    for index, record in enumerate(sequence):\n",
    "        if index % every == 0:\n",
    "            progress.value = index\n",
    "        yield record"
   ]
  },
  {
   "cell_type": "code",
   "execution_count": null,
   "metadata": {
    "collapsed": false
   },
   "outputs": [],
   "source": [
    "for url in log_progress(urls, every=1):\n",
    "    fetch_url(url)"
   ]
  },
  {
   "cell_type": "code",
   "execution_count": null,
   "metadata": {
    "collapsed": false
   },
   "outputs": [],
   "source": [
    "def log_progress(sequence, every=None, size=None):\n",
    "    from ipywidgets import IntProgress, HTML, VBox\n",
    "    from IPython.display import display\n",
    "    from datetime import timedelta\n",
    "    from time import time\n",
    "    \n",
    "    is_iterator = False\n",
    "    if size is None:\n",
    "        try:\n",
    "            size = len(sequence)\n",
    "        except TypeError:\n",
    "            is_iterator = True\n",
    "    if size is not None:\n",
    "        if every is None:\n",
    "            if size <= 200:\n",
    "                every = 1\n",
    "            else:\n",
    "                every = size / 200     # every 0.5%\n",
    "    else:\n",
    "        assert every is not None, 'sequence is iterator, set every'\n",
    "\n",
    "    if is_iterator:\n",
    "        progress = IntProgress(min=0, max=1, value=1)\n",
    "        progress.bar_style = 'info'\n",
    "    else:\n",
    "        progress = IntProgress(min=0, max=size, value=0)\n",
    "    label = HTML()\n",
    "    box = VBox(children=[label, progress])\n",
    "    display(box)\n",
    "    \n",
    "    index = 0\n",
    "    timestamps = []\n",
    "    delta_timestamps = []\n",
    "    try:\n",
    "        for index, record in enumerate(sequence, 1):\n",
    "            timestamps.append(time())\n",
    "            if index == 1 or index % every == 0:\n",
    "                if is_iterator:\n",
    "                    label.value = '{index} / ?'.format(index=index)\n",
    "                else:\n",
    "                    progress.value = index\n",
    "                    if len(timestamps) == 1 :\n",
    "                        eta = u''\n",
    "                    else:\n",
    "                        delta_timestamps.append(timestamps[-1] - timestamps[-2])\n",
    "                        last = timedelta(seconds=timestamps[-1] - timestamps[-2])\n",
    "                        avr = sum(delta_timestamps) / float(len(delta_timestamps))\n",
    "                        eta = u'(time remaining : {eta} | last : {last} | avr : {avr})'.format(\n",
    "                            eta=str(timedelta(seconds=avr * (size - index))).split('.', 2)[0],\n",
    "                            last=str(last).split('.', 2)[0],\n",
    "                            avr=str(timedelta(seconds=avr)).split('.', 2)[0]\n",
    "                        )\n",
    "                    label.value = u'{index} / {size} {eta}'.format(\n",
    "                        index=index,\n",
    "                        size=size,\n",
    "                        eta=eta\n",
    "                    )\n",
    "            yield record\n",
    "    except:\n",
    "        progress.bar_style = 'danger'\n",
    "        raise\n",
    "    else:\n",
    "        progress.bar_style = 'success'\n",
    "        progress.value = index\n",
    "        label.value = str(index or '?')"
   ]
  },
  {
   "cell_type": "code",
   "execution_count": null,
   "metadata": {
    "collapsed": false
   },
   "outputs": [],
   "source": [
    "from time import sleep\n",
    "\n",
    "\n",
    "urls = range(100)\n",
    "\n",
    "\n",
    "def fetch_url(url):\n",
    "    sleep(0.1)"
   ]
  },
  {
   "cell_type": "code",
   "execution_count": null,
   "metadata": {
    "collapsed": false
   },
   "outputs": [],
   "source": [
    "for url in log_progress(urls[:10], every=1):\n",
    "    fetch_url(url)"
   ]
  },
  {
   "cell_type": "code",
   "execution_count": null,
   "metadata": {
    "collapsed": false
   },
   "outputs": [],
   "source": [
    "for url in log_progress(urls, every=1):\n",
    "    fetch_url(url)"
   ]
  },
  {
   "cell_type": "code",
   "execution_count": null,
   "metadata": {
    "collapsed": false
   },
   "outputs": [],
   "source": [
    "for url in log_progress(urls[:10]):\n",
    "    fetch_url(url)\n",
    "for url in log_progress(urls[10:20]):\n",
    "    fetch_url(url)"
   ]
  },
  {
   "cell_type": "code",
   "execution_count": null,
   "metadata": {
    "collapsed": false
   },
   "outputs": [],
   "source": [
    "for url in log_progress([]):\n",
    "    fetch_url(url)"
   ]
  },
  {
   "cell_type": "code",
   "execution_count": null,
   "metadata": {
    "collapsed": false
   },
   "outputs": [],
   "source": [
    "from random import random\n",
    "\n",
    "\n",
    "urls = range(100)\n",
    "\n",
    "\n",
    "def fetch_url(url):\n",
    "    sleep(0.1)\n",
    "    \n",
    "\n",
    "def fetch_urls(urls):\n",
    "    for url in urls:\n",
    "        yield fetch_url(url)\n",
    "    \n",
    "    \n",
    "def is_ok_content(response):\n",
    "    return random() < 0.3\n",
    "\n",
    "    \n",
    "def get_ok_content_responses(responses):\n",
    "    for response in responses:\n",
    "        if is_ok_content(response):\n",
    "            yield response"
   ]
  },
  {
   "cell_type": "code",
   "execution_count": null,
   "metadata": {
    "collapsed": false
   },
   "outputs": [],
   "source": [
    "responses = fetch_urls(log_progress(urls, every=1))\n",
    "responses = get_ok_content_responses(log_progress(responses, every=1))\n",
    "responses = list(responses)"
   ]
  },
  {
   "cell_type": "code",
   "execution_count": null,
   "metadata": {
    "collapsed": false
   },
   "outputs": [],
   "source": [
    "def fetch_url(url):\n",
    "    sleep(random() / 3)\n",
    "\n",
    "    \n",
    "def fetch_urls(urls):\n",
    "    for url in urls:\n",
    "        fetch_url(url)    "
   ]
  },
  {
   "cell_type": "code",
   "execution_count": null,
   "metadata": {
    "collapsed": false
   },
   "outputs": [],
   "source": [
    "from IPython.lib import backgroundjobs as bg\n",
    "jobs = bg.BackgroundJobManager()\n",
    "jobs.new(fetch_urls, log_progress(urls, every=1))\n",
    "jobs.new(fetch_urls, log_progress(urls, every=1))\n",
    "jobs.new(fetch_urls, log_progress(urls, every=1))\n",
    "jobs.new(fetch_urls, log_progress(urls, every=1))"
   ]
  },
  {
   "cell_type": "code",
   "execution_count": null,
   "metadata": {
    "collapsed": false
   },
   "outputs": [],
   "source": []
  }
 ],
 "metadata": {
  "kernelspec": {
   "display_name": "Python 3",
   "language": "python",
   "name": "python3"
  },
  "language_info": {
   "codemirror_mode": {
    "name": "ipython",
    "version": 3
   },
   "file_extension": ".py",
   "mimetype": "text/x-python",
   "name": "python",
   "nbconvert_exporter": "python",
   "pygments_lexer": "ipython3",
   "version": "3.5.2"
  }
 },
 "nbformat": 4,
 "nbformat_minor": 0
}
